{
 "cells": [
  {
   "cell_type": "code",
   "execution_count": 14,
   "id": "65c3033f-385d-4e2f-b400-ede42f649a1a",
   "metadata": {},
   "outputs": [
    {
     "name": "stdout",
     "output_type": "stream",
     "text": [
      "[[51 55]\n",
      " [14 19]\n",
      " [ 0  4]]\n",
      "[[[1 1]\n",
      "  [2 2]]\n",
      "\n",
      " [[3 3]\n",
      "  [4 4]]]\n",
      "[[[10 20]\n",
      "  [20 40]]\n",
      "\n",
      " [[30 60]\n",
      "  [40 80]]]\n",
      "row: [[10 20]\n",
      " [20 40]]\n",
      "row: [[30 60]\n",
      " [40 80]]\n"
     ]
    }
   ],
   "source": [
    "import numpy as np\n",
    "X = np.array([[51, 55], [14, 19], [0, 4]])\n",
    "print(X)\n",
    "\n",
    "# \n",
    "X = np.array([[[1, 1 ], [2, 2 ] ], [[3, 3 ], [4, 4 ] ] ])\n",
    "print(X)\n",
    "\n",
    "X = X * np.array([10, 20 ])\n",
    "print(X)\n",
    "# 广播：看来还是会锁定最小的变量进行广播\n",
    "# 广播有最小变量限制：X = np.array([[[1, 1, 1 ], [2, 2, 2 ] ], [[3, 3, 3 ], [4, 4, 4 ] ] ]) 不可\n",
    "\n",
    "for row in X:\n",
    "    print(\"row: \", end = \"\")\n",
    "    print(row)"
   ]
  },
  {
   "cell_type": "code",
   "execution_count": null,
   "id": "bf1345d8-7a58-4c36-94ac-648eb70c393c",
   "metadata": {},
   "outputs": [],
   "source": []
  },
  {
   "cell_type": "code",
   "execution_count": null,
   "id": "83b04b54-9e2c-4188-a268-f91babe1f361",
   "metadata": {},
   "outputs": [],
   "source": []
  },
  {
   "cell_type": "code",
   "execution_count": null,
   "id": "7d4d6770-7e3a-44cd-be38-5d08a9042c0e",
   "metadata": {},
   "outputs": [],
   "source": []
  },
  {
   "cell_type": "code",
   "execution_count": null,
   "id": "a7bc256b-f5c8-412b-b1bb-9055c218212c",
   "metadata": {},
   "outputs": [],
   "source": []
  }
 ],
 "metadata": {
  "kernelspec": {
   "display_name": "Python 3 (ipykernel)",
   "language": "python",
   "name": "python3"
  },
  "language_info": {
   "codemirror_mode": {
    "name": "ipython",
    "version": 3
   },
   "file_extension": ".py",
   "mimetype": "text/x-python",
   "name": "python",
   "nbconvert_exporter": "python",
   "pygments_lexer": "ipython3",
   "version": "3.9.6"
  }
 },
 "nbformat": 4,
 "nbformat_minor": 5
}
