{
 "cells": [
  {
   "cell_type": "markdown",
   "id": "d6db0dd5-ae3b-4204-b450-38f423a4e79d",
   "metadata": {},
   "source": [
    "#### 一、Python"
   ]
  },
  {
   "cell_type": "code",
   "execution_count": 4,
   "id": "65c3033f-385d-4e2f-b400-ede42f649a1a",
   "metadata": {},
   "outputs": [
    {
     "name": "stdout",
     "output_type": "stream",
     "text": [
      "[[51 55]\n",
      " [14 19]\n",
      " [ 0  4]]\n",
      "[[[1 1]\n",
      "  [2 2]]\n",
      "\n",
      " [[3 3]\n",
      "  [4 4]]]\n",
      "[[[10 20]\n",
      "  [20 40]]\n",
      "\n",
      " [[30 60]\n",
      "  [40 80]]]\n",
      "row: [[10 20]\n",
      " [20 40]]\n",
      "row: [[30 60]\n",
      " [40 80]]\n"
     ]
    }
   ],
   "source": [
    "import numpy as np\n",
    "X = np.array([[51, 55], [14, 19], [0, 4]])\n",
    "print(X)\n",
    "\n",
    "# \n",
    "X = np.array([[[1, 1 ], [2, 2 ] ], [[3, 3 ], [4, 4 ] ] ])\n",
    "print(X)\n",
    "\n",
    "X = X * np.array([10, 20 ])\n",
    "print(X)\n",
    "# 广播：看来还是会锁定最小的变量进行广播\n",
    "# 广播有最小变量限制：X = np.array([[[1, 1, 1 ], [2, 2, 2 ] ], [[3, 3, 3 ], [4, 4, 4 ] ] ]) 不可\n",
    "\n",
    "for row in X:\n",
    "    print(\"row: \", end = \"\")\n",
    "    print(row)"
   ]
  },
  {
   "cell_type": "code",
   "execution_count": 1,
   "id": "bf1345d8-7a58-4c36-94ac-648eb70c393c",
   "metadata": {},
   "outputs": [
    {
     "data": {
      "image/png": "[encoded data removed]",
      "text/plain": [
       "<Figure size 640x480 with 1 Axes>"
      ]
     },
     "metadata": {},
     "output_type": "display_data"
    }
   ],
   "source": [
    "import numpy as np\n",
    "import matplotlib.pyplot as plt\n",
    "# 生成数据\n",
    "x = np.arange(0, 6, 0.1) # 以 0.1为单位，生成 0到 6的数据\n",
    "y = np.sin(x)\n",
    "# 绘制图形\n",
    "plt.plot(x, y)\n",
    "plt.show()"
   ]
  },
  {
   "cell_type": "markdown",
   "id": "db64ea3a-8e2f-473e-87df-572a46898c4a",
   "metadata": {},
   "source": [
    "#### 二、感知机"
   ]
  },
  {
   "cell_type": "markdown",
   "id": "784a2f47-751f-4370-939f-cd55a5dd364c",
   "metadata": {},
   "source": [
    " 1、感知机模型：与、或、非 均是线性逻辑可以用单层感知机直接表示\n",
    " \n",
    " 2、感知机的结构：异或是非线性逻辑，需要多层感知机表示 -- 由与或非组成的组合逻辑，对应为多层感知机，-- 可以模拟高级函数\n",
    " \n",
    " ！！！ 原本二次函数也好，其他函数也好，都是将别的函数输出作为输入进行运算，这与感知机层次结合没有本质差别\n",
    " \n",
    " ！！！ 高级函数可以分割空间，高维度的空间，非常高维度的函数，维度高到一般的数学直觉难以想象，所谓的智能就是表示数据到高维度，从而判断"
   ]
  },
  {
   "cell_type": "markdown",
   "id": "a2cf4575-ab48-4a1e-bfff-e5cafe95c8f0",
   "metadata": {},
   "source": [
    "#### 计算模型：神经网络算法 -- 深度学习\n",
    "前向传播(算法模型结构) + 损失函数\n",
    "\n",
    "反向传播 + 优化方法(优化器)\n",
    "\n",
    "#### 理解数据表示的基础数据量以及计算过程中的计算转化量是理解AI算法的关键"
   ]
  },
  {
   "cell_type": "markdown",
   "id": "5bfccf1d-bb51-4f73-be40-98d2d71f23df",
   "metadata": {},
   "source": [
    "#### 三、计算模型：神经网络"
   ]
  },
  {
   "cell_type": "markdown",
   "id": "5110fa36-7404-45f8-8d10-d7ad65c780f1",
   "metadata": {},
   "source": [
    "1、神经网络要求激活函数为各种函数，足够高纬度表示的函数，e^x，因为简单线性叠加层次后得到的都是普通的线性函数，\n",
    "    需要变换接口运算才能实现更高级的变换从而得到更加高级的函数\n",
    "\n",
    "！！！ 线性函数加深层后仍然为线性函数，阶跃函数和sigmod函数都是非线性\n",
    "\n",
    "2、层次运算转化为矩阵运算：（x1, .., xn）* (wi1, .., win) = bi, (w化为矩阵则相应的b化为向量)"
   ]
  },
  {
   "cell_type": "code",
   "execution_count": 24,
   "id": "799d21b0-d82d-43d9-ac6b-31312ada5286",
   "metadata": {},
   "outputs": [
    {
     "name": "stdout",
     "output_type": "stream",
     "text": [
      "[0.31682708 0.69627909]\n"
     ]
    }
   ],
   "source": [
    "## 3、三层神经网络的封装\n",
    "# 计算模型：激活函数\n",
    "def step_function(x):\n",
    "    y = x > 0\n",
    "    return y.astype(np.int)\n",
    "\n",
    "def sigmoid(x):\n",
    "    return 1 / (1 + np.exp(-x))\n",
    "\n",
    "def relu(x):\n",
    "    return np.maximum(0, x)\n",
    "\n",
    "# 计算模型：输出层激活函数 -- 取决于问题类型：分类，回归\n",
    "def identity_function(x):\n",
    "    return x\n",
    "\n",
    "def softmax(a):\n",
    "    exp_a = np.exp(a)\n",
    "    sum_exp_a = np.sum(exp_a)\n",
    "    y = exp_a / sum_exp_a\n",
    "    \n",
    "    return y\n",
    "\n",
    "## ！！！ 计算机中计算的实现要充分考虑误差，如softmax的实现\n",
    "def init_network():\n",
    "    network = {}\n",
    "    network['W1'] = np.array([[0.1, 0.3, 0.5], [0.2, 0.4, 0.6]])\n",
    "    network['b1'] = np.array([0.1, 0.2, 0.3])\n",
    "    network['W2'] = np.array([[0.1, 0.4], [0.2, 0.5], [0.3, 0.6]])\n",
    "    network['b2'] = np.array([0.1, 0.2])\n",
    "    network['W3'] = np.array([[0.1, 0.3], [0.2, 0.4]])\n",
    "    network['b3'] = np.array([0.1, 0.2])\n",
    "    return network\n",
    "def forward(network, x):\n",
    "    W1, W2, W3 = network['W1'], network['W2'], network['W3']\n",
    "    b1, b2, b3 = network['b1'], network['b2'], network['b3']\n",
    "    a1 = np.dot(x, W1) + b1\n",
    "    z1 = sigmoid(a1)\n",
    "    a2 = np.dot(z1, W2) + b2\n",
    "    z2 = sigmoid(a2)\n",
    "    a3 = np.dot(z2, W3) + b3\n",
    "    y = identity_function(a3)\n",
    "    return y\n",
    "network = init_network()\n",
    "x = np.array([1.0, 0.5])\n",
    "y = forward(network, x)\n",
    "print(y) # [ 0.31682708 0.69627909]"
   ]
  },
  {
   "cell_type": "code",
   "execution_count": 18,
   "id": "64748683-07b0-45be-b7b4-a85397b878b7",
   "metadata": {},
   "outputs": [
    {
     "name": "stdout",
     "output_type": "stream",
     "text": [
      "(60000, 784)\n",
      "(60000,)\n",
      "(10000, 784)\n",
      "(10000,)\n"
     ]
    }
   ],
   "source": [
    "## 4、手写数学识别 - 数据加载\n",
    "import sys, os\n",
    "sys.path.append(os.pardir) # 为了导入父目录中的文件而进行的设定\n",
    "from dataset.mnist import load_mnist\n",
    "\n",
    "# 第一次调用会花费几分钟 ……\n",
    "(x_train, t_train), (x_test, t_test) = load_mnist(flatten=True, normalize=False, one_hot_label=False)\n",
    "# (x_train, t_train), (x_test, t_test) = load_mnist(flatten=True, normalize=False, one_hot_label=False) # one_hot: 转换结果标签\n",
    "# one_hot形式 7 对应 [0, 0, 0, 0, 0, 0, 1, 0, 0 ]\n",
    "\n",
    "# 输出各个数据的形状\n",
    "print(x_train.shape) # (60000, 784)\n",
    "print(t_train.shape) # (60000,)\n",
    "print(x_test.shape) # (10000, 784)\n",
    "print(t_test.shape) # (10000,)"
   ]
  },
  {
   "cell_type": "code",
   "execution_count": 19,
   "id": "cc0e1cbb-2124-4081-8c46-28df5079a55f",
   "metadata": {},
   "outputs": [
    {
     "name": "stdout",
     "output_type": "stream",
     "text": [
      "5\n",
      "(784,)\n",
      "(28, 28)\n"
     ]
    }
   ],
   "source": [
    "## 4、手写数学识别 - 数据：查看图像\n",
    "import sys, os\n",
    "sys.path.append(os.pardir)\n",
    "import numpy as np\n",
    "from dataset.mnist import load_mnist\n",
    "from PIL import Image\n",
    "def img_show(img):\n",
    "    pil_img = Image.fromarray(np.uint8(img))\n",
    "    pil_img.show()\n",
    "\n",
    "(x_train, t_train), (x_test, t_test) = load_mnist(flatten=True, normalize=False)\n",
    "img = x_train[0]\n",
    "label = t_train[0]\n",
    "\n",
    "print(label) # 5\n",
    "print(img.shape) # (784,)\n",
    "# img_show(img.reshape(8, 98) )\n",
    "\n",
    "img = img.reshape(28, 28) # 把图像的形状变成原来的尺寸\n",
    "print(img.shape) # (28, 28)\n",
    "\n",
    "# img_show(img)"
   ]
  },
  {
   "cell_type": "code",
   "execution_count": 25,
   "id": "0590062d-621b-4e74-bf80-db8ea3822c47",
   "metadata": {},
   "outputs": [
    {
     "name": "stdout",
     "output_type": "stream",
     "text": [
      "Accuracy:0.9352\n"
     ]
    }
   ],
   "source": [
    "## 4、手写数学识别 - 计算模型：推理\n",
    "import pickle\n",
    "\n",
    "def get_data():\n",
    "    (x_train, t_train), (x_test, t_test) = \\\n",
    "        load_mnist(normalize=True, flatten=True, one_hot_label=False)\n",
    "    return x_test, t_test\n",
    "\n",
    "def init_network():\n",
    "    with open(\"sample_weight.pkl\", 'rb') as f:\n",
    "        network = pickle.load(f)\n",
    "    return network\n",
    "\n",
    "def predict(network, x):\n",
    "    W1, W2, W3 = network['W1'], network['W2'], network['W3']\n",
    "    b1, b2, b3 = network['b1'], network['b2'], network['b3']\n",
    "    a1 = np.dot(x, W1) + b1\n",
    "    z1 = sigmoid(a1)\n",
    "    a2 = np.dot(z1, W2) + b2\n",
    "    z2 = sigmoid(a2)\n",
    "    a3 = np.dot(z2, W3) + b3\n",
    "    y = softmax(a3)\n",
    "    return y\n",
    "    \n",
    "x, t = get_data()\n",
    "network = init_network()\n",
    "\n",
    "accuracy_cnt = 0\n",
    "for i in range(len(x)):\n",
    "    y = predict(network, x[i])\n",
    "    p = np.argmax(y) # 获取概率最高的元素的索引\n",
    "    if p == t[i]:\n",
    "        accuracy_cnt += 1\n",
    "\n",
    "print(\"Accuracy:\" + str(float(accuracy_cnt) / len(x)))"
   ]
  },
  {
   "cell_type": "code",
   "execution_count": 26,
   "id": "b4c1273a-2b29-4ec4-851b-fe1b506ea399",
   "metadata": {},
   "outputs": [
    {
     "name": "stdout",
     "output_type": "stream",
     "text": [
      "Accuracy:0.9352\n"
     ]
    }
   ],
   "source": [
    "## 4、手写数学识别 - 计算模型：批处理\n",
    "x, t = get_data()\n",
    "\n",
    "network = init_network()\n",
    "\n",
    "accuracy_cnt = 0\n",
    "batch_size = 100 # 批数量\n",
    "for i in range(0, len(x), batch_size):\n",
    "    x_batch = x[i:i+batch_size]\n",
    "    y_batch = predict(network, x_batch)\n",
    "    p = np.argmax(y_batch, axis=1)\n",
    "    accuracy_cnt += np.sum(p == t[i:i+batch_size])\n",
    "\n",
    "print(\"Accuracy:\" + str(float(accuracy_cnt) / len(x)))"
   ]
  },
  {
   "cell_type": "markdown",
   "id": "6696898d-9a6d-491d-9577-6b83dbe8f4f4",
   "metadata": {},
   "source": [
    "#### 四、损失函数：神经网络的学习"
   ]
  },
  {
   "cell_type": "markdown",
   "id": "4c90a1a9-3b1c-41e8-a3a1-46ecfd10edde",
   "metadata": {},
   "source": [
    "#### 五、优化器：误差反向传播法"
   ]
  },
  {
   "cell_type": "markdown",
   "id": "25ca0b71-08b6-4185-95b3-f7d0cf431c5a",
   "metadata": {},
   "source": [
    "#### 六、调参：与学习相关的技巧"
   ]
  },
  {
   "cell_type": "markdown",
   "id": "78d814d6-4d2a-4f1b-bc51-dd58b612e169",
   "metadata": {},
   "source": [
    "#### 七、计算模型：卷积神经网络"
   ]
  },
  {
   "cell_type": "code",
   "execution_count": null,
   "id": "ebc6f12a-f308-4fc7-9db1-f9cdd197325f",
   "metadata": {},
   "outputs": [],
   "source": []
  },
  {
   "cell_type": "code",
   "execution_count": null,
   "id": "23cb2a44-d11a-4d89-9282-ce5c19bae316",
   "metadata": {},
   "outputs": [],
   "source": []
  },
  {
   "cell_type": "code",
   "execution_count": null,
   "id": "720d9dee-c8ee-430c-a510-6e867498d7b4",
   "metadata": {},
   "outputs": [],
   "source": []
  },
  {
   "cell_type": "code",
   "execution_count": null,
   "id": "94d0e8fe-c445-4d1c-8a1f-05fa473272ba",
   "metadata": {},
   "outputs": [],
   "source": []
  },
  {
   "cell_type": "code",
   "execution_count": null,
   "id": "52b32b79-487e-4855-b898-b4eaf22e1e94",
   "metadata": {},
   "outputs": [],
   "source": []
  }
 ],
 "metadata": {
  "kernelspec": {
   "display_name": "Python 3 (ipykernel)",
   "language": "python",
   "name": "python3"
  },
  "language_info": {
   "codemirror_mode": {
    "name": "ipython",
    "version": 3
   },
   "file_extension": ".py",
   "mimetype": "text/x-python",
   "name": "python",
   "nbconvert_exporter": "python",
   "pygments_lexer": "ipython3",
   "version": "3.9.6"
  }
 },
 "nbformat": 4,
 "nbformat_minor": 5
}
